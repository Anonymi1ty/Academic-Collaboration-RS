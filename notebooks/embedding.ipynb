{
 "cells": [
  {
   "cell_type": "code",
   "execution_count": 1,
   "metadata": {
    "collapsed": true,
    "ExecuteTime": {
     "start_time": "2023-04-09T13:52:45.765231Z",
     "end_time": "2023-04-09T13:52:45.971339Z"
    }
   },
   "outputs": [
    {
     "name": "stdout",
     "output_type": "stream",
     "text": [
      "['Anfu_Zhou', 'Hongman_Wang', 'Xiangling_Fu', 'Yang_Liu_0024', 'Pengfei_Wang_0009', 'Si-Ya_Xu', 'Wenjing_Li_0001', 'Chen_Liu_0011', 'Xiaomin_Zhu_0002', 'Yawen_Wang', 'Pei_Zhang_0003', 'Jianfeng_Guan', 'Qi_Qi_0001', 'Qiwei_Shen', 'Chuan_Shi', 'Yongping_Xiong', 'Haihong_E', 'Fanqin_Zhou', 'Shuzhuang_Zhang', 'Hongliang_Liang', 'Linmei_Hu', 'Yanhua_Yu', 'Yan_Shi_0002', 'Haifeng_Sun', 'Yuhong_Li', 'Dong_Zhao_0001', 'Tiemeng_Li', 'Feng_Qi_0004', 'Rongfeng_Li', 'Jincui_Yang', 'Ao_Xiong', 'Li_Wang_0039', 'Bin_Wu_0001', 'Zhili_Wang', 'Ding_Xiao', 'Yingxia_Shao', 'Rongheng_Lin', 'Kun_Niu', 'Xirong_Que', 'Dahai_Jin', 'Guangwei_Zhang', 'Yuan_Dong', 'Shangguang_Wang', 'Xiangang_Qin', 'Xin_Li_0041', 'Bo_Hu_0003', 'Wenhua_Shao', 'Junping_Du', 'Meilian_Lu', 'Wenbin_Yao', 'Zhaowen_Lin', 'Liutong_Xu', 'Jinglin_Li', 'Shao-Yong_Guo', 'Yidong_Cui', 'Yanlei_Shang', 'Xuejing_Kang', 'Sujie_Shao', 'Anlong_Ming', 'Bai_Wang_0001', 'Hui_Gao_0001', 'Fangchun_Yang', 'Dongliang_Xie', 'Xiangwu_Meng', 'Jingling_Zhao', 'Pengrui_Duan', 'Wendong_Wang', 'Shao-Zhang_Niu', 'Yan_Sun_0004', 'Yuyu_Yuan', 'Wenan_Zhou', 'Xiang_Cheng_0003', 'Songwei_Pei', 'Xiaoyuan_Fu', 'Jianxin_Liao', 'Tong_Xu_0002', 'Fang_Zhao_0003', 'Chong_Gao', 'Hai_Huang_0001', 'Xiaofeng_Du', 'Kun_Xie_0003', 'Yunzhan_Gong', 'Yang_Zhang_0015', 'Changqiao_Xu', 'Qiang_Fu_0004', 'Wenming_Guo', 'Haoyu_Wang_0001', 'Hongwei_Jia', 'Meina_Song', 'Lei_Feng_0001', 'Yuchao_Zhang', 'Zhengqiu_Yang', 'Xiangyang_Gong', 'Hua_Zou', 'Danfeng_Yan', 'Xiuqin_Lin', 'Quan_Yuan_0004', 'MeiYu_Liang', 'Jingyu_Wang_0001', 'Xingquan_Zuo', 'Lanlan_Rui', 'Lejian_Zhang', 'Zhongbao_Zhang', 'Xiaoru_Wang', 'Zhonghong_Ou', 'Wen-Jun_Hou', 'Lirong_Qiu', 'Qibo_Sun', 'Hongbo_Wang_0001', 'Ying_Wang_0002', 'Mengshi_Qi', 'Xuesong_Qiu_0001', 'Hong_Luo_0001', 'Xianlin_Zhang', 'Huiyuan_Fu', 'Feifei_Kou', 'Budan_Wu', 'Jinpeng_Chen', 'Jiapeng_Xiu', 'Kai_Shuang', 'Yonghao_Gu', 'Xiaolong_Zheng_0002', 'Shujie_Yang', 'Xiao-hong_Huang', 'Zhipeng_Gao', 'Yuanyuan_Zuo']\n"
     ]
    }
   ],
   "source": [
    "from utils.dao import db_utils as db_utils\n",
    "\n",
    "all_name = db_utils.get_all_name_en()\n",
    "\n",
    "print(all_name)"
   ]
  }
 ],
 "metadata": {
  "kernelspec": {
   "display_name": "Python 3",
   "language": "python",
   "name": "python3"
  },
  "language_info": {
   "codemirror_mode": {
    "name": "ipython",
    "version": 2
   },
   "file_extension": ".py",
   "mimetype": "text/x-python",
   "name": "python",
   "nbconvert_exporter": "python",
   "pygments_lexer": "ipython2",
   "version": "2.7.6"
  }
 },
 "nbformat": 4,
 "nbformat_minor": 0
}
