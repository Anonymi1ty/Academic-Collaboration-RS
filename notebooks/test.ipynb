{
 "cells": [
  {
   "cell_type": "code",
   "execution_count": null,
   "outputs": [],
   "source": [
    "# 数据可视化\n",
    "import torch\n",
    "from utils.dao import db_utils as db\n",
    "import pandas as pd\n",
    "\n",
    "# 从文件加载 tensor\n",
    "t = torch.load(\"res/all_sim.pt\")\n",
    "for i in range(len(t)):\n",
    "    for j in range(i):\n",
    "        t[i][j] = t[j][i]\n",
    "all_col = db.get_all_name_en()\n",
    "pd = pd.DataFrame(t.numpy(), columns=all_col, index=all_col)\n",
    "pd.to_csv(\"res/all_sim.csv\")\n"
   ],
   "metadata": {
    "collapsed": false,
    "pycharm": {
     "is_executing": true
    }
   }
  },
  {
   "cell_type": "code",
   "execution_count": null,
   "outputs": [],
   "source": [
    "print(\"Hello, world!\")"
   ],
   "metadata": {
    "collapsed": false,
    "pycharm": {
     "is_executing": true
    }
   }
  }
 ],
 "metadata": {
  "kernelspec": {
   "display_name": "Python 3",
   "language": "python",
   "name": "python3"
  },
  "language_info": {
   "codemirror_mode": {
    "name": "ipython",
    "version": 2
   },
   "file_extension": ".py",
   "mimetype": "text/x-python",
   "name": "python",
   "nbconvert_exporter": "python",
   "pygments_lexer": "ipython2",
   "version": "2.7.6"
  }
 },
 "nbformat": 4,
 "nbformat_minor": 0
}
