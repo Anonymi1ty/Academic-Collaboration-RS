{
 "cells": [
  {
   "cell_type": "code",
   "execution_count": 9,
   "outputs": [
    {
     "name": "stdout",
     "output_type": "stream",
     "text": [
      "Jupyter: Hello,World!\n"
     ]
    }
   ],
   "source": [
    "import torch\n",
    "from utils.dao import db_utils as db\n",
    "import pandas as pd\n",
    "\n",
    "print(\"Jupyter: Hello,World!\")"
   ],
   "metadata": {
    "collapsed": false
   }
  },
  {
   "cell_type": "code",
   "execution_count": null,
   "outputs": [],
   "source": [
    "# all_sim.pt 转 csv\n",
    "t = torch.load(\"res/all_sim.pt\")\n",
    "for i in range(len(t)):\n",
    "    for j in range(i):\n",
    "        t[i][j] = t[j][i]\n",
    "all_col = db.get_all_name_en()\n",
    "pd = pd.DataFrame(t.numpy(), columns=all_col, index=all_col)\n",
    "pd.to_csv(\"res/all_sim.csv\")"
   ],
   "metadata": {
    "collapsed": false,
    "pycharm": {
     "is_executing": true
    }
   }
  },
  {
   "cell_type": "code",
   "execution_count": null,
   "outputs": [],
   "source": [
    "# author_vec_set.pt 2 csv\n",
    "author_set = db.get_all_name_en()\n",
    "d50 = torch.load('res/author_vec_set.pt')\n",
    "d2 = torch.load(\"res/author_vec_set_2d.pt\")\n",
    "pd.DataFrame(d50.numpy(), index=author_set).to_csv(\"res/author_vec_set.csv\")\n",
    "pd.DataFrame(d2, index=author_set).to_csv(\"res/author_vec_set_2d.csv\")"
   ],
   "metadata": {
    "collapsed": false,
    "pycharm": {
     "is_executing": true
    }
   }
  }
 ],
 "metadata": {
  "kernelspec": {
   "display_name": "Python 3",
   "language": "python",
   "name": "python3"
  },
  "language_info": {
   "codemirror_mode": {
    "name": "ipython",
    "version": 2
   },
   "file_extension": ".py",
   "mimetype": "text/x-python",
   "name": "python",
   "nbconvert_exporter": "python",
   "pygments_lexer": "ipython2",
   "version": "2.7.6"
  }
 },
 "nbformat": 4,
 "nbformat_minor": 0
}
